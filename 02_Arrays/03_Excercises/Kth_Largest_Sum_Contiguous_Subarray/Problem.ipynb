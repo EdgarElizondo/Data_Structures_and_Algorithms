{
 "cells": [
  {
   "cell_type": "markdown",
   "metadata": {},
   "source": [
    "# [K-th Largest Sum Contiguous Subarray](https://www.geeksforgeeks.org/problems/k-th-largest-sum-contiguous-subarray/1?itm_source=geeksforgeeks&itm_medium=article&itm_campaign=bottom_sticky_on_article)\n",
    "\n",
    "source: GeeksforGeeks"
   ]
  },
  {
   "cell_type": "markdown",
   "metadata": {},
   "source": [
    "You are given an array Arr of size N. You have to find the K-th largest sum of contiguous subarray within the array elements. In other words, over all subarrays, find the subarray with k-th largest sum and return its sum of elements."
   ]
  },
  {
   "cell_type": "markdown",
   "metadata": {},
   "source": [
    "<H3>Example 1:</H3>\n",
    "<pre>\n",
    "    <strong>Input:</strong>\n",
    "    <span>\n",
    "        N = 3\n",
    "        K = 2\n",
    "        Arr = {3,2,1}\n",
    "    </span> \n",
    "    <strong>Output:</strong>\n",
    "    <span>\n",
    "        5\n",
    "    </span>\n",
    "    <strong>Explanation:</strong>\n",
    "    <span>\n",
    "        The different subarray sums we can get from the array\n",
    "        are = {6,5,3,2,1}. Where 5 is the 2nd largest.\n",
    "    </span>\n",
    "</pre> "
   ]
  },
  {
   "cell_type": "markdown",
   "metadata": {},
   "source": [
    "<H3>Example 2:</H3>\n",
    "<pre>\n",
    "    <strong>Input:</strong>\n",
    "    <span>\n",
    "        N = 4\n",
    "        K = 3\n",
    "        Arr = {2,6,4,1}\n",
    "    </span> \n",
    "    <strong>Output:</strong>\n",
    "    <span>\n",
    "        11\n",
    "    </span>\n",
    "    <strong>Explanation:</strong>\n",
    "    <span>\n",
    "        The different subarray sums we can get from the array\n",
    "        are = {13,12,11,10,8,6,5,4,2,1}. Where 11 is the 3rd largest.\n",
    "    </span>\n",
    "</pre> "
   ]
  },
  {
   "cell_type": "markdown",
   "metadata": {},
   "source": [
    "#### Your Task:\n",
    "You don't need to read input or print anything. Your task is to complete the function **kthLargest()** which takes the array **Arr[]**   and its size **N** as inputs and returns the Kth largest subarray sum."
   ]
  },
  {
   "cell_type": "markdown",
   "metadata": {},
   "source": [
    "**Expected Time Complexity:** O(N2 * log K)\n",
    "\n",
    "**Expected Auxiliary Space:** O(K)"
   ]
  },
  {
   "cell_type": "markdown",
   "metadata": {},
   "source": [
    "**Constraints:**\n",
    "\n",
    "1 <= N <= 100\n",
    "\n",
    "1 <= K <= (N*(N+1))/2\n",
    "\n",
    "-105 <= Arr[i] <= 105\n",
    "\n",
    "Sum of N over all test cases doesn't exceed 1000.\n",
    "\n",
    "Array may contain duplicate elements."
   ]
  },
  {
   "cell_type": "markdown",
   "metadata": {},
   "source": [
    "#### Your Solutions:"
   ]
  },
  {
   "cell_type": "code",
   "execution_count": null,
   "metadata": {},
   "outputs": [],
   "source": [
    "def kthLargest(self, N : int, K : int, Arr : list[int]) -> int:\n",
    "    pass"
   ]
  },
  {
   "cell_type": "markdown",
   "metadata": {},
   "source": [
    "#### Test your result"
   ]
  },
  {
   "cell_type": "code",
   "execution_count": 2,
   "metadata": {},
   "outputs": [],
   "source": [
    "from Case_Test.read_test import run_test\n",
    "\n",
    "t = run_test('simple_run')\n",
    "t.test(kthLargest)"
   ]
  },
  {
   "cell_type": "markdown",
   "metadata": {},
   "source": [
    "#### My Solution"
   ]
  },
  {
   "cell_type": "code",
   "execution_count": 1,
   "metadata": {},
   "outputs": [],
   "source": [
    "def kthLargest(N : int, K : int, Arr : list[int]) -> int:\n",
    "        # code here\n",
    "        sum_list = []\n",
    "        for i in range(N):\n",
    "            for j in range(N,i,-1):\n",
    "                sum_list.append(sum(Arr[i:j]))\n",
    "        sum_list.sort(reverse=True)\n",
    "        return sum_list[K-1]"
   ]
  }
 ],
 "metadata": {
  "kernelspec": {
   "display_name": "Python 3",
   "language": "python",
   "name": "python3"
  },
  "language_info": {
   "codemirror_mode": {
    "name": "ipython",
    "version": 3
   },
   "file_extension": ".py",
   "mimetype": "text/x-python",
   "name": "python",
   "nbconvert_exporter": "python",
   "pygments_lexer": "ipython3",
   "version": "3.9.13"
  }
 },
 "nbformat": 4,
 "nbformat_minor": 2
}
